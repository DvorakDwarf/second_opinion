{
 "cells": [
  {
   "attachments": {},
   "cell_type": "markdown",
   "id": "3674ae17",
   "metadata": {},
   "source": [
    "## Second Opinion model practice on MNIST\n",
    "\n",
    "Hello and welcome to my TED talk. This notebook is about an idea for architecture I got when learning DL. I am oblivious to how effective it is or even if I'm original. The idea sounds similar to MoE (Mixture of Experts). While MoE seems to be about seperating unique tasks between a couple models, my idea is to take MNIST and make 10 models that each are only responsible for their own number and nothing else. The idea is that they would be easier to tweak individually and theoretically improve accuracy. \\\n",
    "I also realised that this can be an Evangelion reference if you squint at it *really* hard."
   ]
  },
  {
   "attachments": {},
   "cell_type": "markdown",
   "id": "7ed89b13",
   "metadata": {},
   "source": [
    "# Hyperparameters\n",
    "\n",
    "To make things simple hyperparameters and constants in general will be listed in the following cell:"
   ]
  },
  {
   "cell_type": "code",
   "execution_count": 2,
   "id": "b78b7ff7",
   "metadata": {},
   "outputs": [],
   "source": [
    "#How many threads to pull data\n",
    "DATA_WORKERS = 0\n",
    "\n",
    "#Model stuff\n",
    "BATCH_SIZE = 64\n",
    "EPOCHS = 25\n",
    "LEARNING_RATE = 0.0001\n",
    "\n",
    "#Labels for second opinion models\n",
    "POSITIVE = [1., 0.]\n",
    "NEGATIVE = [0., 1.]"
   ]
  },
  {
   "cell_type": "markdown",
   "id": "f686e6bf",
   "metadata": {},
   "source": [
    "# Dataset\n",
    "\n",
    "But first we need to initialize the victim of many amateur machine learning students - MNIST, a dataset of tens of thousands of pictures of handwritten digits that we will use to teach our \"\"\"experts\"\"\" how to recognize numbers"
   ]
  },
  {
   "cell_type": "code",
   "execution_count": 3,
   "id": "0d3991cb",
   "metadata": {},
   "outputs": [],
   "source": [
    "import torch\n",
    "from torchvision import datasets\n",
    "import torchvision.transforms as transforms\n",
    "\n",
    "#We will use target_transform soon\n",
    "def get_loaders(target_transform=None):\n",
    "    #No data augmentation necessary. It's literally just 28x28 pixels\n",
    "    transform = transforms.ToTensor()\n",
    "\n",
    "    train_data = datasets.MNIST(root='data', \n",
    "                                train=True,\n",
    "                                download=True, \n",
    "                                transform=transform,\n",
    "                                target_transform=target_transform)\n",
    "    #Data loader\n",
    "    train_loader = torch.utils.data.DataLoader(train_data, \n",
    "                                            batch_size=BATCH_SIZE,\n",
    "                                            num_workers=DATA_WORKERS,\n",
    "                                            shuffle=True)\n",
    "\n",
    "    val_data = datasets.MNIST(root='data', \n",
    "                                train=False,\n",
    "                                download=True, \n",
    "                                transform=transform,\n",
    "                                target_transform=target_transform)\n",
    "    #Data loader\n",
    "    val_loader = torch.utils.data.DataLoader(val_data, \n",
    "                                            batch_size=BATCH_SIZE,\n",
    "                                            num_workers=DATA_WORKERS)\n",
    "    \n",
    "    return train_loader, val_loader\n",
    "\n",
    "target_transform = transforms.Lambda(lambda y: torch.zeros(\n",
    "    10, dtype=torch.float).scatter_(dim=0, index=torch.tensor(y), value=1))\n",
    "train_loader, val_loader = get_loaders(target_transform)"
   ]
  },
  {
   "attachments": {},
   "cell_type": "markdown",
   "id": "45bc0383",
   "metadata": {},
   "source": [
    "Now let's take a look at the data just to make sure we didn't horribly mess up so far"
   ]
  },
  {
   "cell_type": "code",
   "execution_count": 4,
   "id": "247b8553",
   "metadata": {},
   "outputs": [
    {
     "data": {
      "image/png": "[encoded data removed]",
      "text/plain": [
       "<Figure size 700x700 with 9 Axes>"
      ]
     },
     "metadata": {},
     "output_type": "display_data"
    }
   ],
   "source": [
    "%matplotlib inline\n",
    "\n",
    "import matplotlib.pyplot as plt\n",
    "\n",
    "\n",
    "data_iter = iter(train_loader)\n",
    "image_batch, labels = next(data_iter)\n",
    "image_batch = image_batch.numpy()\n",
    "\n",
    "fig, axes = plt.subplots(figsize=(7,7), nrows=3, ncols=3, sharey=True, sharex=True)\n",
    "for ax, img in zip(axes.flatten(), image_batch):\n",
    "    ax.xaxis.set_visible(False)\n",
    "    ax.yaxis.set_visible(False)\n",
    "    im = ax.imshow(img.reshape((28,28)), cmap='Greys_r')"
   ]
  },
  {
   "attachments": {},
   "cell_type": "markdown",
   "id": "87e8e514",
   "metadata": {},
   "source": [
    "# The Fun Stuff™\n",
    "\n",
    "Now we can get to architecture. For this particular experiment I will use a very shallow CNN. I'm not trying to get state of the art performance here so it's nice to not have to overthink things"
   ]
  },
  {
   "attachments": {},
   "cell_type": "markdown",
   "id": "81c3a53f",
   "metadata": {},
   "source": [
    "# The Baseline \n",
    "\n",
    "This will be our CNN in question. We will use this solo model as the baseline on which to judge the second opinion models"
   ]
  },
  {
   "cell_type": "code",
   "execution_count": 13,
   "id": "b2d92472",
   "metadata": {},
   "outputs": [
    {
     "name": "stdout",
     "output_type": "stream",
     "text": [
      "Device is cuda\n"
     ]
    }
   ],
   "source": [
    "import torch.nn as nn\n",
    "\n",
    "class Solo_Expert(nn.Module):\n",
    "    def __init__(self):\n",
    "        super(Solo_Expert, self).__init__()        \n",
    "        self.conv1 = nn.Sequential(         \n",
    "            nn.Conv2d(1, 16, kernel_size=3),                              \n",
    "            nn.ReLU(),                      \n",
    "            nn.MaxPool2d(2),    \n",
    "        )\n",
    "        self.conv2 = nn.Sequential(         \n",
    "            nn.Conv2d(16, 32, kernel_size=3),     \n",
    "            nn.ReLU(),                      \n",
    "            nn.MaxPool2d(2),                \n",
    "        )        \n",
    "\n",
    "        self.flatten = nn.Flatten()\n",
    "\n",
    "        self.fc1 = nn.Linear(32 * 5 * 5, 10)    \n",
    "        \n",
    "    def forward(self, x):\n",
    "        x = self.conv1(x)\n",
    "        x = self.conv2(x)        \n",
    "        x = self.flatten(x)       \n",
    "        output = self.fc1(x)\n",
    "        return output    \n",
    "    \n",
    "#Check what device to use\n",
    "use_cuda = torch.cuda.is_available()\n",
    "use_mps = torch.backends.mps.is_available()\n",
    "device = torch.device(\"mps\" if use_mps else \"cpu\")\n",
    "device = torch.device(\"cuda\" if use_cuda else \"cpu\")\n",
    "print(f\"Device is {device}\")\n",
    "\n",
    "solo_model = Solo_Expert().to(device)"
   ]
  },
  {
   "cell_type": "code",
   "execution_count": 6,
   "id": "0f5accfc",
   "metadata": {},
   "outputs": [],
   "source": [
    "import torch.optim as optim\n",
    "\n",
    "from tqdm import tqdm \n",
    "import datetime\n",
    "\n",
    "target = \"full\"\n",
    "\n",
    "optimizer = optim.SGD(solo_model.parameters(), lr=LEARNING_RATE, momentum=0.9)\n",
    "loss_fn = nn.CrossEntropyLoss() \n",
    "\n",
    "def training_loop(model, target, train_loader, val_loader, quiet=False):\n",
    "    print(f\"Beginning of training for target: {target}\")\n",
    "\n",
    "    for epoch in range(1, EPOCHS + 1):\n",
    "        total_loss = 0.0\n",
    "        total_val_loss = 0.0\n",
    "        best_loss = 9999\n",
    "        \n",
    "        #Train\n",
    "        for (imgs, labels) in tqdm(train_loader, desc=\"Training\", disable=quiet):\n",
    "            imgs = imgs.to(device)\n",
    "            labels = labels.to(device)\n",
    "\n",
    "            model.eval()\n",
    "\n",
    "            out = model(imgs)\n",
    "            loss = loss_fn(out, labels)\n",
    "            optimizer.zero_grad()\n",
    "            loss.backward()\n",
    "            optimizer.step()\n",
    "\n",
    "            total_loss += loss.item()\n",
    "\n",
    "        #Validate\n",
    "        for (val_imgs, val_labels) in tqdm(val_loader, desc=\"Validation\", disable=quiet):\n",
    "            val_imgs = val_imgs.to(device)\n",
    "            val_labels = val_labels.to(device)\n",
    "\n",
    "            model.train(True)\n",
    "\n",
    "            val_out = model(val_imgs)\n",
    "            val_loss = loss_fn(val_out, val_labels)\n",
    "\n",
    "            total_val_loss += val_loss.item()\n",
    "\n",
    "        epoch_val_loss = total_val_loss / len(val_loader)\n",
    "        epoch_loss = total_loss / len(train_loader)\n",
    "            \n",
    "        #Save the best model\n",
    "        if epoch_val_loss < best_loss:\n",
    "            best_loss = epoch_val_loss\n",
    "            torch.save(model.state_dict(), \"data/\" + f\"MNIST_{target}.pth\")\n",
    "\n",
    "        # if epoch == 1 or epoch % 10 == 0:\n",
    "        now = datetime.datetime.now()\n",
    "        if quiet == True:\n",
    "            pass\n",
    "            # if epoch % 5 == 0:\n",
    "            #     print(f\"{now}\\nEpoch {epoch}\\ntr_loss {epoch_loss:.5}\\nval_loss {epoch_val_loss:.5}\\n\")\n",
    "        else:\n",
    "            print(f\"{now}\\nEpoch {epoch}\\ntr_loss {epoch_loss:.5}\\nval_loss {epoch_val_loss:.5}\\n\")"
   ]
  },
  {
   "cell_type": "code",
   "execution_count": null,
   "id": "24bc4d4b",
   "metadata": {},
   "outputs": [],
   "source": [
    "training_loop(solo_model, target, train_loader, val_loader)"
   ]
  },
  {
   "attachments": {},
   "cell_type": "markdown",
   "id": "aba99295",
   "metadata": {},
   "source": [
    "And now to test the accuracy"
   ]
  },
  {
   "cell_type": "code",
   "execution_count": 7,
   "id": "10a59bd9",
   "metadata": {},
   "outputs": [],
   "source": [
    "def validate(model, val_loader):\n",
    "    model.eval()\n",
    "        \n",
    "    for name, loader in [(\"val\", val_loader)]:\n",
    "        correct = 0\n",
    "        total = 0\n",
    "\n",
    "        with torch.no_grad():\n",
    "            for imgs, labels in loader:\n",
    "                imgs = imgs.to(device)\n",
    "                labels = labels.to(device)\n",
    "\n",
    "                outputs = model(imgs)\n",
    "\n",
    "                # print(\"Out: \" + str(outputs[0]))\n",
    "                # print(\"Truth: \" + str(labels[0]) + \"\\n\")\n",
    "\n",
    "                _, predicted = torch.max(outputs, dim=1)\n",
    "                _, truth = torch.max(labels, dim=1)\n",
    "                \n",
    "                total += labels.shape[0]\n",
    "                correct += int((predicted == truth).sum())\n",
    "\n",
    "        print(\"Accuracy {}: {:.2f}\".format(name , correct / total))"
   ]
  },
  {
   "cell_type": "code",
   "execution_count": 8,
   "id": "c70f61d1",
   "metadata": {},
   "outputs": [
    {
     "name": "stdout",
     "output_type": "stream",
     "text": [
      "Accuracy val: 0.93\n"
     ]
    }
   ],
   "source": [
    "#Load model\n",
    "solo_model.load_state_dict(torch.load(f\"data/MNIST_full_[2023-05-20 14:06:48.644023].pth\"))\n",
    "\n",
    "#One hot encode\n",
    "target_transform = transforms.Lambda(lambda y: torch.zeros(\n",
    "    10, dtype=torch.float).scatter_(dim=0, index=torch.tensor(y), value=1))\n",
    "train_loader, val_loader = get_loaders(target_transform)\n",
    "\n",
    "validate(solo_model, val_loader)"
   ]
  },
  {
   "attachments": {},
   "cell_type": "markdown",
   "id": "a7f9f6ab",
   "metadata": {},
   "source": [
    "An ~93% accuracy might not be the knife's edge in terms of classification but it's a fair start."
   ]
  },
  {
   "attachments": {},
   "cell_type": "markdown",
   "id": "db7b6412",
   "metadata": {},
   "source": [
    "# Second Opinion\n",
    "\n",
    "Now that we have seen the performance of the baseline, we can compare it to a small horde of single-minded models. We will start by creating our own transform for labels."
   ]
  },
  {
   "cell_type": "code",
   "execution_count": 9,
   "id": "68981ca7",
   "metadata": {},
   "outputs": [],
   "source": [
    "#SLOW ?\n",
    "class Relabel:\n",
    "    def __init__(self, target):\n",
    "        target = torch.zeros(10, dtype=torch.float).scatter_(\n",
    "            dim=0, index=torch.tensor(target), value=1)\n",
    "\n",
    "        self.target = target\n",
    "    \n",
    "    def __call__(self, label):\n",
    "        if torch.equal(label, self.target) == True:\n",
    "            return torch.Tensor(POSITIVE)\n",
    "        else:\n",
    "            return torch.Tensor(NEGATIVE)"
   ]
  },
  {
   "attachments": {},
   "cell_type": "markdown",
   "id": "5e4b316a",
   "metadata": {},
   "source": [
    "Let's make a somewhat lobotomized version of our original expert that is a binary classifier"
   ]
  },
  {
   "cell_type": "code",
   "execution_count": 10,
   "id": "af46f619",
   "metadata": {},
   "outputs": [],
   "source": [
    "#Originally tried with less features than the original but it was bad\n",
    "\n",
    "class Expert(nn.Module):\n",
    "    def __init__(self):\n",
    "        super(Expert, self).__init__()        \n",
    "        self.conv1 = nn.Sequential(         \n",
    "            nn.Conv2d(1, 16, kernel_size=3),                              \n",
    "            nn.ReLU(),                      \n",
    "            nn.MaxPool2d(2),    \n",
    "        )\n",
    "        self.conv2 = nn.Sequential(         \n",
    "            nn.Conv2d(16, 32, kernel_size=3),     \n",
    "            nn.ReLU(),                      \n",
    "            nn.MaxPool2d(2),                \n",
    "        )        \n",
    "\n",
    "        self.flatten = nn.Flatten()\n",
    "\n",
    "        self.fc1 = nn.Linear(32 * 5 * 5, 2)    \n",
    "        \n",
    "    def forward(self, x):\n",
    "        x = self.conv1(x)\n",
    "        x = self.conv2(x)        \n",
    "        x = self.flatten(x)       \n",
    "        output = self.fc1(x)\n",
    "        return output    "
   ]
  },
  {
   "attachments": {},
   "cell_type": "markdown",
   "id": "e4c488ac",
   "metadata": {},
   "source": [
    "Now let's modify the training for this hive mind"
   ]
  },
  {
   "cell_type": "code",
   "execution_count": 314,
   "id": "0237f6eb",
   "metadata": {},
   "outputs": [
    {
     "name": "stdout",
     "output_type": "stream",
     "text": [
      "Beginning of training for target: 0\n",
      "Accuracy val: 0.99\n",
      "Beginning of training for target: 1\n",
      "Accuracy val: 0.99\n",
      "Beginning of training for target: 2\n",
      "Accuracy val: 0.98\n",
      "Beginning of training for target: 3\n",
      "Accuracy val: 0.98\n",
      "Beginning of training for target: 4\n",
      "Accuracy val: 0.98\n",
      "Beginning of training for target: 5\n",
      "Accuracy val: 0.97\n",
      "Beginning of training for target: 6\n",
      "Accuracy val: 0.99\n",
      "Beginning of training for target: 7\n",
      "Accuracy val: 0.98\n",
      "Beginning of training for target: 8\n",
      "Accuracy val: 0.98\n",
      "Beginning of training for target: 9\n",
      "Accuracy val: 0.97\n"
     ]
    }
   ],
   "source": [
    "for target in range(0, 10):\n",
    "    target_transform = transforms.Compose([\n",
    "        transforms.Lambda(lambda y: torch.zeros(\n",
    "    10, dtype=torch.float).scatter_(dim=0, index=torch.tensor(y), value=1)),\n",
    "    Relabel(target)\n",
    "    ])\n",
    "\n",
    "    train_loader, val_loader = get_loaders(target_transform)\n",
    "    hiveling = Expert()\n",
    "    optimizer = optim.SGD(hiveling.parameters(), lr=LEARNING_RATE, momentum=0.9)\n",
    "\n",
    "    training_loop(model=hiveling,\n",
    "                target=target,\n",
    "                train_loader=train_loader,\n",
    "                val_loader=val_loader,\n",
    "                quiet=True)\n",
    "\n",
    "    validate(hiveling, val_loader)"
   ]
  },
  {
   "attachments": {},
   "cell_type": "markdown",
   "id": "06110e6b",
   "metadata": {},
   "source": [
    "Creating a class to contain all 10 models"
   ]
  },
  {
   "cell_type": "code",
   "execution_count": 11,
   "id": "1db6694b",
   "metadata": {},
   "outputs": [],
   "source": [
    "class Hive(nn.Module):\n",
    "    def __init__(self, hive_models):\n",
    "        super(Hive, self).__init__()        \n",
    "\n",
    "        self.hive_models = hive_models\n",
    "\n",
    "    def forward(self, x):\n",
    "        #Data loader might not have enough data for a full batch\n",
    "        current_batch_size = x.shape[0]\n",
    "\n",
    "        outputs = torch.zeros((current_batch_size, 10))\n",
    "        for index, hiveling in enumerate(hive_models):\n",
    "            out = hiveling(x)\n",
    "\n",
    "            #Combining the output of all models into the correct shape\n",
    "            outputs[:, index] = out[:, 0]\n",
    "            \n",
    "        return outputs"
   ]
  },
  {
   "attachments": {},
   "cell_type": "markdown",
   "id": "480a2de6",
   "metadata": {},
   "source": [
    "Let's evaluate them all at once now and see if this did anything"
   ]
  },
  {
   "cell_type": "code",
   "execution_count": 12,
   "id": "58abb975",
   "metadata": {},
   "outputs": [
    {
     "name": "stdout",
     "output_type": "stream",
     "text": [
      "Accuracy val: 0.92\n"
     ]
    }
   ],
   "source": [
    "hive_models = []\n",
    "\n",
    "target_transform = transforms.Lambda(lambda y: torch.zeros(\n",
    "    10, dtype=torch.float).scatter_(dim=0, index=torch.tensor(y), value=1))\n",
    "train_loader, val_loader = get_loaders(target_transform)\n",
    "\n",
    "for target in range(0, 10):\n",
    "    hiveling = Expert()\n",
    "    # soo_model.load_state_dict(torch.load(f\"data/MNIST_full_[2023-05-20 13:37:37.751415].pth\"))\n",
    "    hiveling.load_state_dict(torch.load(f\"data/MNIST_{target}.pth\"))\n",
    "    hive_models.append(hiveling)\n",
    "\n",
    "hive = Hive(hive_models)\n",
    "\n",
    "validate(hive, val_loader)"
   ]
  },
  {
   "attachments": {},
   "cell_type": "markdown",
   "id": "5db6085d",
   "metadata": {},
   "source": [
    "As well as individual performance if you forgot results from training"
   ]
  },
  {
   "cell_type": "code",
   "execution_count": 331,
   "id": "d577d37f",
   "metadata": {},
   "outputs": [
    {
     "name": "stdout",
     "output_type": "stream",
     "text": [
      "Accuracy val: 0.99\n",
      "Accuracy val: 0.99\n",
      "Accuracy val: 0.98\n",
      "Accuracy val: 0.98\n",
      "Accuracy val: 0.98\n",
      "Accuracy val: 0.97\n",
      "Accuracy val: 0.99\n",
      "Accuracy val: 0.98\n",
      "Accuracy val: 0.98\n",
      "Accuracy val: 0.97\n"
     ]
    }
   ],
   "source": [
    "for target in range(0, 10):\n",
    "    # print(target)\n",
    "    target_transform = transforms.Compose([\n",
    "        transforms.Lambda(lambda y: torch.zeros(\n",
    "    10, dtype=torch.float).scatter_(dim=0, index=torch.tensor(y), value=1)),\n",
    "    Relabel(target)\n",
    "    ])\n",
    "\n",
    "    train_loader, val_loader = get_loaders(target_transform)\n",
    "    hiveling = Expert()\n",
    "\n",
    "    hiveling.load_state_dict(torch.load(f\"data/MNIST_{target}.pth\"))\n",
    "\n",
    "    validate(hiveling, val_loader)"
   ]
  },
  {
   "attachments": {},
   "cell_type": "markdown",
   "id": "a6472385",
   "metadata": {},
   "source": [
    "# Conclusion\n",
    "Unfortunately it did not work out that well. The overall performance tends to be the same or lower, at the cost massively slower training. There is still some potential use from this. If the classes were vastly different in difficulty creating a model tuned for the difficult problem might increase accuracy and prevent overfitting on the other classes. It might be enough if you are looking to juice out that extra half a percent of accuracy from the model and don't mind waiting. "
   ]
  }
 ],
 "metadata": {
  "kernelspec": {
   "display_name": "Python 3 (ipykernel)",
   "language": "python",
   "name": "python3"
  },
  "language_info": {
   "codemirror_mode": {
    "name": "ipython",
    "version": 3
   },
   "file_extension": ".py",
   "mimetype": "text/x-python",
   "name": "python",
   "nbconvert_exporter": "python",
   "pygments_lexer": "ipython3",
   "version": "3.10.0"
  }
 },
 "nbformat": 4,
 "nbformat_minor": 5
}
